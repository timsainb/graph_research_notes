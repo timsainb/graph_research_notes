{
 "cells": [
  {
   "cell_type": "code",
   "execution_count": 12,
   "metadata": {
    "ExecuteTime": {
     "end_time": "2019-08-22T05:25:31.438793Z",
     "start_time": "2019-08-22T05:25:31.378154Z"
    }
   },
   "outputs": [
    {
     "name": "stdout",
     "output_type": "stream",
     "text": [
      "The autoreload extension is already loaded. To reload it, use:\n",
      "  %reload_ext autoreload\n"
     ]
    }
   ],
   "source": [
    "%load_ext autoreload\n",
    "%autoreload 2"
   ]
  },
  {
   "cell_type": "code",
   "execution_count": 13,
   "metadata": {
    "ExecuteTime": {
     "end_time": "2019-08-22T05:25:31.737771Z",
     "start_time": "2019-08-22T05:25:31.687449Z"
    }
   },
   "outputs": [],
   "source": [
    "from wordpress_graph.paths import DATA_DIR\n",
    "import feedparser\n",
    "import numpy as np\n",
    "from tqdm.autonotebook import tqdm\n",
    "import pandas as pd\n",
    "import matplotlib.pyplot as plt\n",
    "import networkx as nx"
   ]
  },
  {
   "cell_type": "code",
   "execution_count": 14,
   "metadata": {
    "ExecuteTime": {
     "end_time": "2019-08-22T05:25:31.820136Z",
     "start_time": "2019-08-22T05:25:31.741133Z"
    }
   },
   "outputs": [],
   "source": [
    "from wordpress_graph.xml_to_graph import post_info_from_xml, post_df_to_graph"
   ]
  },
  {
   "cell_type": "code",
   "execution_count": 15,
   "metadata": {
    "ExecuteTime": {
     "end_time": "2019-08-22T05:25:31.899372Z",
     "start_time": "2019-08-22T05:25:31.822702Z"
    }
   },
   "outputs": [],
   "source": [
    "xml_files = list(DATA_DIR.glob('xml/*.xml'))"
   ]
  },
  {
   "cell_type": "code",
   "execution_count": 16,
   "metadata": {
    "ExecuteTime": {
     "end_time": "2019-08-22T05:25:37.216763Z",
     "start_time": "2019-08-22T05:25:32.341471Z"
    }
   },
   "outputs": [
    {
     "name": "stdout",
     "output_type": "stream",
     "text": [
      "['attachment' 'nav_menu_item' 'post']\n"
     ]
    },
    {
     "data": {
      "application/vnd.jupyter.widget-view+json": {
       "model_id": "ac7bbd813e75483a80fa4d5f138c055e",
       "version_major": 2,
       "version_minor": 0
      },
      "text/plain": [
       "HBox(children=(IntProgress(value=0, max=1000), HTML(value='')))"
      ]
     },
     "metadata": {},
     "output_type": "display_data"
    },
    {
     "name": "stdout",
     "output_type": "stream",
     "text": [
      "\n",
      "['attachment' 'post']\n"
     ]
    },
    {
     "data": {
      "application/vnd.jupyter.widget-view+json": {
       "model_id": "86a131d73336457dac108a61a78cb5bf",
       "version_major": 2,
       "version_minor": 0
      },
      "text/plain": [
       "HBox(children=(IntProgress(value=0, max=12), HTML(value='')))"
      ]
     },
     "metadata": {},
     "output_type": "display_data"
    },
    {
     "name": "stdout",
     "output_type": "stream",
     "text": [
      "\n"
     ]
    }
   ],
   "source": [
    "post_df, tag_df = post_info_from_xml(xml_files)"
   ]
  },
  {
   "cell_type": "code",
   "execution_count": 17,
   "metadata": {
    "ExecuteTime": {
     "end_time": "2019-08-22T05:25:37.269709Z",
     "start_time": "2019-08-22T05:25:37.219844Z"
    }
   },
   "outputs": [
    {
     "data": {
      "text/html": [
       "<div>\n",
       "<style scoped>\n",
       "    .dataframe tbody tr th:only-of-type {\n",
       "        vertical-align: middle;\n",
       "    }\n",
       "\n",
       "    .dataframe tbody tr th {\n",
       "        vertical-align: top;\n",
       "    }\n",
       "\n",
       "    .dataframe thead th {\n",
       "        text-align: right;\n",
       "    }\n",
       "</style>\n",
       "<table border=\"1\" class=\"dataframe\">\n",
       "  <thead>\n",
       "    <tr style=\"text-align: right;\">\n",
       "      <th></th>\n",
       "      <th>title</th>\n",
       "      <th>tags</th>\n",
       "      <th>category</th>\n",
       "      <th>link</th>\n",
       "      <th>date</th>\n",
       "      <th>slug</th>\n",
       "    </tr>\n",
       "  </thead>\n",
       "  <tbody>\n",
       "    <tr>\n",
       "      <th>0</th>\n",
       "      <td>Critical Behavior from Deep Dynamics: A Hidden...</td>\n",
       "      <td>[Language, LSTM, Markov]</td>\n",
       "      <td>Papers</td>\n",
       "      <td>https://timsainburg.wordpress.com/2016/08/05/c...</td>\n",
       "      <td>(2016, 8, 5, 2, 33, 37, 4, 218, 0)</td>\n",
       "      <td>critical_behavior_from_deep_dynamics:_a_hidden...</td>\n",
       "    </tr>\n",
       "    <tr>\n",
       "      <th>1</th>\n",
       "      <td>Adversarially Learned Inference</td>\n",
       "      <td>[GAN]</td>\n",
       "      <td>Papers</td>\n",
       "      <td>https://timsainburg.wordpress.com/2016/08/05/a...</td>\n",
       "      <td>(2016, 8, 5, 2, 58, 40, 4, 218, 0)</td>\n",
       "      <td>adversarially_learned_inference</td>\n",
       "    </tr>\n",
       "    <tr>\n",
       "      <th>2</th>\n",
       "      <td>InfoGAN: Interpretable Representation Learning...</td>\n",
       "      <td>[GAN]</td>\n",
       "      <td>Papers</td>\n",
       "      <td>https://timsainburg.wordpress.com/2016/08/05/i...</td>\n",
       "      <td>(2016, 8, 5, 3, 1, 20, 4, 218, 0)</td>\n",
       "      <td>infogan:_interpretable_representation_learning...</td>\n",
       "    </tr>\n",
       "  </tbody>\n",
       "</table>\n",
       "</div>"
      ],
      "text/plain": [
       "                                               title  \\\n",
       "0  Critical Behavior from Deep Dynamics: A Hidden...   \n",
       "1                    Adversarially Learned Inference   \n",
       "2  InfoGAN: Interpretable Representation Learning...   \n",
       "\n",
       "                       tags category  \\\n",
       "0  [Language, LSTM, Markov]   Papers   \n",
       "1                     [GAN]   Papers   \n",
       "2                     [GAN]   Papers   \n",
       "\n",
       "                                                link  \\\n",
       "0  https://timsainburg.wordpress.com/2016/08/05/c...   \n",
       "1  https://timsainburg.wordpress.com/2016/08/05/a...   \n",
       "2  https://timsainburg.wordpress.com/2016/08/05/i...   \n",
       "\n",
       "                                 date  \\\n",
       "0  (2016, 8, 5, 2, 33, 37, 4, 218, 0)   \n",
       "1  (2016, 8, 5, 2, 58, 40, 4, 218, 0)   \n",
       "2   (2016, 8, 5, 3, 1, 20, 4, 218, 0)   \n",
       "\n",
       "                                                slug  \n",
       "0  critical_behavior_from_deep_dynamics:_a_hidden...  \n",
       "1                    adversarially_learned_inference  \n",
       "2  infogan:_interpretable_representation_learning...  "
      ]
     },
     "metadata": {},
     "output_type": "display_data"
    },
    {
     "data": {
      "text/plain": [
       "437"
      ]
     },
     "execution_count": 17,
     "metadata": {},
     "output_type": "execute_result"
    }
   ],
   "source": [
    "display(post_df[:3])\n",
    "len(post_df)"
   ]
  },
  {
   "cell_type": "code",
   "execution_count": 139,
   "metadata": {
    "ExecuteTime": {
     "end_time": "2019-08-22T22:26:27.264762Z",
     "start_time": "2019-08-22T22:26:24.947757Z"
    }
   },
   "outputs": [
    {
     "data": {
      "text/plain": [
       "543"
      ]
     },
     "execution_count": 139,
     "metadata": {},
     "output_type": "execute_result"
    }
   ],
   "source": [
    "len(tag_df)"
   ]
  },
  {
   "cell_type": "code",
   "execution_count": 140,
   "metadata": {
    "ExecuteTime": {
     "end_time": "2019-08-22T22:26:56.794362Z",
     "start_time": "2019-08-22T22:26:56.733064Z"
    }
   },
   "outputs": [
    {
     "data": {
      "text/plain": [
       "1768"
      ]
     },
     "execution_count": 140,
     "metadata": {},
     "output_type": "execute_result"
    }
   ],
   "source": [
    "np.sum(tag_df.frequency)"
   ]
  },
  {
   "cell_type": "code",
   "execution_count": 142,
   "metadata": {
    "ExecuteTime": {
     "end_time": "2019-08-22T22:29:01.790570Z",
     "start_time": "2019-08-22T22:29:01.728205Z"
    }
   },
   "outputs": [
    {
     "data": {
      "text/plain": [
       "array(['syntax', 'Birdsong', 'hierarchy', 'Language',\n",
       "       'Language Acquisition', 'sequence learning', 'Recursion',\n",
       "       'zebra finch', 'vocalization', 'Markov Models'], dtype=object)"
      ]
     },
     "execution_count": 142,
     "metadata": {},
     "output_type": "execute_result"
    }
   ],
   "source": [
    "tag_df.sort_values(by=\"frequency\", ascending=False).tag.values[:10]"
   ]
  },
  {
   "cell_type": "code",
   "execution_count": 18,
   "metadata": {
    "ExecuteTime": {
     "end_time": "2019-08-22T05:25:37.680050Z",
     "start_time": "2019-08-22T05:25:37.271530Z"
    }
   },
   "outputs": [
    {
     "data": {
      "text/html": [
       "<div>\n",
       "<style scoped>\n",
       "    .dataframe tbody tr th:only-of-type {\n",
       "        vertical-align: middle;\n",
       "    }\n",
       "\n",
       "    .dataframe tbody tr th {\n",
       "        vertical-align: top;\n",
       "    }\n",
       "\n",
       "    .dataframe thead th {\n",
       "        text-align: right;\n",
       "    }\n",
       "</style>\n",
       "<table border=\"1\" class=\"dataframe\">\n",
       "  <thead>\n",
       "    <tr style=\"text-align: right;\">\n",
       "      <th></th>\n",
       "      <th>tag</th>\n",
       "      <th>frequency</th>\n",
       "    </tr>\n",
       "  </thead>\n",
       "  <tbody>\n",
       "    <tr>\n",
       "      <th>487</th>\n",
       "      <td>syntax</td>\n",
       "      <td>78</td>\n",
       "    </tr>\n",
       "    <tr>\n",
       "      <th>10</th>\n",
       "      <td>Birdsong</td>\n",
       "      <td>64</td>\n",
       "    </tr>\n",
       "    <tr>\n",
       "      <th>267</th>\n",
       "      <td>hierarchy</td>\n",
       "      <td>59</td>\n",
       "    </tr>\n",
       "    <tr>\n",
       "      <th>51</th>\n",
       "      <td>Language</td>\n",
       "      <td>43</td>\n",
       "    </tr>\n",
       "    <tr>\n",
       "      <th>52</th>\n",
       "      <td>Language Acquisition</td>\n",
       "      <td>31</td>\n",
       "    </tr>\n",
       "    <tr>\n",
       "      <th>445</th>\n",
       "      <td>sequence learning</td>\n",
       "      <td>27</td>\n",
       "    </tr>\n",
       "    <tr>\n",
       "      <th>83</th>\n",
       "      <td>Recursion</td>\n",
       "      <td>25</td>\n",
       "    </tr>\n",
       "    <tr>\n",
       "      <th>541</th>\n",
       "      <td>zebra finch</td>\n",
       "      <td>24</td>\n",
       "    </tr>\n",
       "    <tr>\n",
       "      <th>524</th>\n",
       "      <td>vocalization</td>\n",
       "      <td>23</td>\n",
       "    </tr>\n",
       "    <tr>\n",
       "      <th>61</th>\n",
       "      <td>Markov Models</td>\n",
       "      <td>22</td>\n",
       "    </tr>\n",
       "  </tbody>\n",
       "</table>\n",
       "</div>"
      ],
      "text/plain": [
       "                      tag  frequency\n",
       "487                syntax         78\n",
       "10               Birdsong         64\n",
       "267             hierarchy         59\n",
       "51               Language         43\n",
       "52   Language Acquisition         31\n",
       "445     sequence learning         27\n",
       "83              Recursion         25\n",
       "541           zebra finch         24\n",
       "524          vocalization         23\n",
       "61          Markov Models         22"
      ]
     },
     "metadata": {},
     "output_type": "display_data"
    },
    {
     "data": {
      "image/png": "[encoded data removed]",
      "text/plain": [
       "<Figure size 432x144 with 1 Axes>"
      ]
     },
     "metadata": {
      "needs_background": "light"
     },
     "output_type": "display_data"
    }
   ],
   "source": [
    "display(tag_df.sort_values(by=\"frequency\", ascending=False)[:10])\n",
    "fig, ax = plt.subplots(figsize=(6,2))\n",
    "ax.hist(tag_df.frequency, bins=50);"
   ]
  },
  {
   "cell_type": "code",
   "execution_count": 145,
   "metadata": {
    "ExecuteTime": {
     "end_time": "2019-08-22T22:30:22.827477Z",
     "start_time": "2019-08-22T22:30:22.761215Z"
    }
   },
   "outputs": [
    {
     "data": {
      "text/plain": [
       "0.5893186003683242"
      ]
     },
     "execution_count": 145,
     "metadata": {},
     "output_type": "execute_result"
    }
   ],
   "source": [
    "len((tag_df[tag_df.frequency == 1]))/len(tag_df)"
   ]
  },
  {
   "cell_type": "markdown",
   "metadata": {},
   "source": [
    "### Make a graph\n",
    "- the value of edges should be weighted by frequency of the overlapping tag"
   ]
  },
  {
   "cell_type": "code",
   "execution_count": 21,
   "metadata": {
    "ExecuteTime": {
     "end_time": "2019-08-22T05:27:39.107050Z",
     "start_time": "2019-08-22T05:26:06.369859Z"
    }
   },
   "outputs": [
    {
     "data": {
      "application/vnd.jupyter.widget-view+json": {
       "model_id": "20b3abfdbdf84303988e9c553a134d04",
       "version_major": 2,
       "version_minor": 0
      },
      "text/plain": [
       "HBox(children=(IntProgress(value=0, max=437), HTML(value='')))"
      ]
     },
     "metadata": {},
     "output_type": "display_data"
    },
    {
     "name": "stdout",
     "output_type": "stream",
     "text": [
      "\n",
      "11753 420\n"
     ]
    }
   ],
   "source": [
    "G, num_conns = post_df_to_graph(post_df, tag_df)\n",
    "print(len(G.edges()), len(G.nodes()))"
   ]
  },
  {
   "cell_type": "code",
   "execution_count": 22,
   "metadata": {
    "ExecuteTime": {
     "end_time": "2019-08-22T05:27:41.230463Z",
     "start_time": "2019-08-22T05:27:40.519812Z"
    }
   },
   "outputs": [
    {
     "data": {
      "text/html": [
       "<div>\n",
       "<style scoped>\n",
       "    .dataframe tbody tr th:only-of-type {\n",
       "        vertical-align: middle;\n",
       "    }\n",
       "\n",
       "    .dataframe tbody tr th {\n",
       "        vertical-align: top;\n",
       "    }\n",
       "\n",
       "    .dataframe thead th {\n",
       "        text-align: right;\n",
       "    }\n",
       "</style>\n",
       "<table border=\"1\" class=\"dataframe\">\n",
       "  <thead>\n",
       "    <tr style=\"text-align: right;\">\n",
       "      <th></th>\n",
       "      <th>node</th>\n",
       "      <th>conns</th>\n",
       "    </tr>\n",
       "  </thead>\n",
       "  <tbody>\n",
       "    <tr>\n",
       "      <th>345</th>\n",
       "      <td>experimental_evidence_for_compositional_syntax...</td>\n",
       "      <td>194</td>\n",
       "    </tr>\n",
       "    <tr>\n",
       "      <th>63</th>\n",
       "      <td>songbirds_possess_the_spontaneous_ability_to_d...</td>\n",
       "      <td>176</td>\n",
       "    </tr>\n",
       "    <tr>\n",
       "      <th>213</th>\n",
       "      <td>biological_foundations_and_origins_of_syntax</td>\n",
       "      <td>174</td>\n",
       "    </tr>\n",
       "    <tr>\n",
       "      <th>365</th>\n",
       "      <td>experimental_evidence_for_phonemic_contrasts_i...</td>\n",
       "      <td>173</td>\n",
       "    </tr>\n",
       "    <tr>\n",
       "      <th>104</th>\n",
       "      <td>songs_to_syntax:_the_linguistics_of_birdsong</td>\n",
       "      <td>173</td>\n",
       "    </tr>\n",
       "  </tbody>\n",
       "</table>\n",
       "</div>"
      ],
      "text/plain": [
       "                                                  node conns\n",
       "345  experimental_evidence_for_compositional_syntax...   194\n",
       "63   songbirds_possess_the_spontaneous_ability_to_d...   176\n",
       "213       biological_foundations_and_origins_of_syntax   174\n",
       "365  experimental_evidence_for_phonemic_contrasts_i...   173\n",
       "104       songs_to_syntax:_the_linguistics_of_birdsong   173"
      ]
     },
     "metadata": {},
     "output_type": "display_data"
    },
    {
     "data": {
      "image/png": "[encoded data removed]",
      "text/plain": [
       "<Figure size 864x288 with 1 Axes>"
      ]
     },
     "metadata": {
      "needs_background": "light"
     },
     "output_type": "display_data"
    }
   ],
   "source": [
    "# show top connected posts\n",
    "display(num_conns.sort_values(by=\"conns\", ascending=False)[:5])\n",
    "# take a look at the weight probabilities\n",
    "weights = np.array([i['weight'] for i in list(G.edges().values())])\n",
    "fig, ax = plt.subplots(ncols=1, figsize=(12,4))\n",
    "ax.hist(weights, bins=50);"
   ]
  },
  {
   "cell_type": "code",
   "execution_count": 24,
   "metadata": {
    "ExecuteTime": {
     "end_time": "2019-08-22T05:27:50.501123Z",
     "start_time": "2019-08-22T05:27:50.451590Z"
    }
   },
   "outputs": [],
   "source": [
    "from wordpress_graph.paths import DATA_DIR"
   ]
  },
  {
   "cell_type": "code",
   "execution_count": 30,
   "metadata": {
    "ExecuteTime": {
     "end_time": "2019-08-22T05:28:32.184767Z",
     "start_time": "2019-08-22T05:28:32.059465Z"
    }
   },
   "outputs": [],
   "source": [
    "nx.write_gpickle(G, (DATA_DIR/\"network_path.gpickle\").as_posix())"
   ]
  },
  {
   "cell_type": "markdown",
   "metadata": {},
   "source": [
    "### Cluster communiities"
   ]
  },
  {
   "cell_type": "code",
   "execution_count": 31,
   "metadata": {
    "ExecuteTime": {
     "end_time": "2019-08-22T16:38:16.044873Z",
     "start_time": "2019-08-22T16:38:13.372797Z"
    }
   },
   "outputs": [],
   "source": [
    "import community\n",
    "import seaborn as sns"
   ]
  },
  {
   "cell_type": "code",
   "execution_count": 32,
   "metadata": {
    "ExecuteTime": {
     "end_time": "2019-08-22T16:38:20.747449Z",
     "start_time": "2019-08-22T16:38:19.786918Z"
    }
   },
   "outputs": [
    {
     "data": {
      "text/plain": [
       "{0, 1, 2, 3, 4, 5, 6, 7, 8}"
      ]
     },
     "execution_count": 32,
     "metadata": {},
     "output_type": "execute_result"
    }
   ],
   "source": [
    "partition = community.best_partition(G)\n",
    "set(partition.values())"
   ]
  },
  {
   "cell_type": "code",
   "execution_count": 37,
   "metadata": {
    "ExecuteTime": {
     "end_time": "2019-08-22T17:26:17.771969Z",
     "start_time": "2019-08-22T17:26:15.263665Z"
    }
   },
   "outputs": [
    {
     "data": {
      "image/png": "[encoded data removed]",
      "text/plain": [
       "<Figure size 648x72 with 1 Axes>"
      ]
     },
     "metadata": {
      "needs_background": "light"
     },
     "output_type": "display_data"
    }
   ],
   "source": [
    "pal = sns.color_palette(\"tab10\", n_colors=len(set(partition.values())))\n",
    "sns.palplot(pal)"
   ]
  },
  {
   "cell_type": "code",
   "execution_count": 146,
   "metadata": {
    "ExecuteTime": {
     "end_time": "2019-08-22T22:48:05.496050Z",
     "start_time": "2019-08-22T22:48:03.587678Z"
    }
   },
   "outputs": [
    {
     "name": "stdout",
     "output_type": "stream",
     "text": [
      "0\n",
      "\tcritical behavior from deep dynamics: a hidden dimension in natural language\n",
      "\trule learning by seven-month-old infants\n",
      "\ta compact statistical model of the song syntax in bengalese finch\n",
      "\tinformation entropy of humpback whale songs\n",
      "\tsimple rules can explain discrimination of putative recursive syntactic structures by a songbird species\n",
      "\trevisiting the syntactic abilities of non-human animals: natural vocalizations and artificial grammar learning\n",
      "\tsongs to syntax: the linguistics of birdsong\n",
      "\tlanguage evolution: semantic combinations in primate calls\n",
      "\tare there species-universal categories in bird song phonology and syntax? a comparative study of chaffinches (fringilla coelebs), zebra finches (taenopygia guttata), and swamp sparrows (melospiza georgiana)\n",
      "\tbehavioral factors governing song complexity in bengalese finches\n",
      "1\n",
      "\tadversarially learned inference\n",
      "\tinfogan: interpretable representation learning by information maximizing generative adversarial nets\n",
      "\timproved techniques for training gans\n",
      "\tauto-encoding variational bayes\n",
      "\tautoencoding beyond pixels using a learned similarity metric\n",
      "\tdiscriminative deep metric learning for face verification in the wild\n",
      "\tdeconvolution and checkering\n",
      "\tlearning to generate chairs, tables and cars with convolutional networks\n",
      "\tembedding with autoencoder regularization\n",
      "\tunsupervised deep embedding for clustering analysis\n",
      "2\n",
      "\tcognitive science in the era of artificial intelligence: a roadmap for reverse-engineering the infant language-learner\n",
      "\thow many syllables does english have?\n",
      "\ta role for the developing lexicon in phonetic category acquisition.\n",
      "\tphonological parsing in speech recognition\n",
      "\tstatistical learning by 8-month old infants\n",
      "\tunsupervised segmentation of audio speech using the voting experts algorithm\n",
      "\tinfants' preference for the predominant stress patterns of english words\n",
      "\tmechanisms and constraints in word segmentation.\n",
      "\tinfants′ sensitivity to the sound patterns of native language words\n",
      "\tformal vs. functional considerations in phonology\n",
      "3\n",
      "\tlibrispeech\n",
      "\trepresentation of speech categories in the primate auditory cortex\n",
      "\tneural representations of events arise from temporal community structure\n",
      "\tneural speech recognition: continuous phoneme decoding using spatiotemporal representations of human cortical activity\n",
      "\tspeech perception in infants\n",
      "\tphonetic feature encoding in human superior temporal gyrus\n",
      "\trecurrent processing during object recognition\n",
      "\tcontext-dependent categorical perception in a songbird\n",
      "\tjapanese quail can learn phonetic categories\n",
      "\tmapping sub-second structure in mouse behavior\n",
      "4\n",
      "\tzebra finches exhibit speaker-independent phonetic perception of human speech\n",
      "\tthe natural history of sound localization in mammals – a story of neuronal inhibition\n",
      "\tmaps and streams in the auditory cortex: nonhuman primates illuminate human speech processing\n",
      "\tmechanisms and streams for processing of “what” and “where” in auditory cortex\n",
      "\treconstructing speech from human auditory cortex\n",
      "\tthe vocal repertoire of the red junglefowl: a spectrographic classification and the code of communication\n",
      "\tdirect observation of syringeal muscle function in songbirds and a parrot\n",
      "\tneural lateralization of vocal control in a passerine bird\n",
      "\tright-side dominance for song control in the zebra finch\n",
      "\tprecise auditory–vocal mirroring in neurons for learned vocal communication\n",
      "5\n",
      "\tcategorical representation of visual stimuli in the primate prefrontal cortex\n",
      "\tneural representation of time in cortico-basal ganglia circuits\n",
      "\tmaking working memory work: a computational model of learning in the prefrontal cortex and basal ganglia\n",
      "\tindirection and symbol-like processing in the prefrontal cortex and basal ganglia\n",
      "\tby carrot or by stick: cognitive reinforcement learning in parkinsonism\n",
      "\ttraining recurrent networks to generate hypotheses about how the brain solves hard navigation problems\n",
      "\tprefrontal cortex and basal ganglia control access to working memory\n",
      "\tthe prefrontal 'cortex' in the pigeon\n",
      "\tvisualizing and understanding recurrent networks\n",
      "\torbital prefrontal cortex mediates reversal learning and not attentional set shifting in the rat\n",
      "6\n",
      "\tcorrelations and neuronal population information\n",
      "\tunsupervised discovery of demixed, low-dimensional neural dynamics across multiple timescales through tensor component analysis.\n",
      "7\n",
      "\tperceptual mechanisms for individual vocal recognition in european starlings, sturnus vulgaris\n",
      "\tperceptual classification based on the component structure of song in european starlings\n",
      "\tvervet monkey alarm calls: semantic communication in a free-ranging primate\n",
      "\textended song learning in wild european starlings\n",
      "\thow infant vervet monkeys learn to recognize starling alarm calls: the role of experience\n",
      "\ta novel statistical method for behaviour sequence analysis and its application to birdsong (2016)\n",
      "8\n",
      "\tevolution of early homo: an integrated biological perspective\n",
      "\tstone tools, language and the brain in human evolution\n",
      "\tcortical tracking of hierarchical linguistic structures in connected speech\n",
      "\tlabels, cognomes, and cyclic computation: an ethological perspective\n",
      "\thuman brain evolution: transcripts, metabolites and their regulators\n",
      "\tfreedom and rules: the acquisition and reprogramming of a bird's learned song\n",
      "\twhat's the difference between recursion and embedding?\n",
      "\tbroca's area and the hierarchical organization of human behavior\n",
      "\thierarchical organization and postural facilitation: rules for grooming in flies\n",
      "\thierarchically organized behavior and its neural foundations: a reinforcement learning perspective\n"
     ]
    }
   ],
   "source": [
    "\n",
    "for count, com in enumerate(set(partition.values())):\n",
    "    list_nodes = [nodes for nodes in partition.keys() if partition[nodes] == com]\n",
    "    \n",
    "    print(count)\n",
    "    for node in list_nodes[:10]:\n",
    "        print('\\t' + node.replace('_', ' '))"
   ]
  },
  {
   "cell_type": "markdown",
   "metadata": {},
   "source": [
    "### Get positions"
   ]
  },
  {
   "cell_type": "code",
   "execution_count": 52,
   "metadata": {
    "ExecuteTime": {
     "end_time": "2019-08-22T17:30:23.006568Z",
     "start_time": "2019-08-22T17:30:19.540425Z"
    }
   },
   "outputs": [],
   "source": [
    "spring_pos = nx.spring_layout(G, k=1/len(G.nodes())**.25)"
   ]
  },
  {
   "cell_type": "code",
   "execution_count": 101,
   "metadata": {
    "ExecuteTime": {
     "end_time": "2019-08-22T17:48:31.856848Z",
     "start_time": "2019-08-22T17:48:15.459928Z"
    }
   },
   "outputs": [],
   "source": [
    "kamada_kawai_pos = nx.drawing.layout.kamada_kawai_layout(G)"
   ]
  },
  {
   "cell_type": "code",
   "execution_count": 62,
   "metadata": {
    "ExecuteTime": {
     "end_time": "2019-08-22T17:32:55.573803Z",
     "start_time": "2019-08-22T17:32:55.250567Z"
    }
   },
   "outputs": [
    {
     "data": {
      "text/plain": [
       "90"
      ]
     },
     "execution_count": 62,
     "metadata": {},
     "output_type": "execute_result"
    }
   ],
   "source": [
    "int(spring_pos['adversarially_learned_inference'][0]*256)"
   ]
  },
  {
   "cell_type": "code",
   "execution_count": 82,
   "metadata": {
    "ExecuteTime": {
     "end_time": "2019-08-22T17:44:32.085000Z",
     "start_time": "2019-08-22T17:44:29.529022Z"
    }
   },
   "outputs": [],
   "source": [
    "weights = []\n",
    "for ui, (u, item) in enumerate(G.edges.items()):\n",
    "    weights.append(item['weight'])"
   ]
  },
  {
   "cell_type": "code",
   "execution_count": 84,
   "metadata": {
    "ExecuteTime": {
     "end_time": "2019-08-22T17:44:40.357938Z",
     "start_time": "2019-08-22T17:44:39.919568Z"
    }
   },
   "outputs": [
    {
     "data": {
      "image/png": "[encoded data removed]",
      "text/plain": [
       "<Figure size 432x288 with 1 Axes>"
      ]
     },
     "metadata": {
      "needs_background": "light"
     },
     "output_type": "display_data"
    }
   ],
   "source": [
    "plt.hist(weights, bins = 50);"
   ]
  },
  {
   "cell_type": "code",
   "execution_count": 137,
   "metadata": {
    "ExecuteTime": {
     "end_time": "2019-08-22T20:21:34.001180Z",
     "start_time": "2019-08-22T20:21:33.387934Z"
    }
   },
   "outputs": [],
   "source": [
    "nodes = [\n",
    "    {\n",
    "        \"id\": str(i),\n",
    "        \"label\": str(i).replace('_', \" \"),\n",
    "        \"group\": partition[i],\n",
    "        \"color\": \"rgba(\"\n",
    "        + \",\".join([str(int(i * 255)) for i in pal[partition[i]]])\n",
    "        + \")\",\n",
    "        \"x\": int(kamada_kawai_pos[i][0] * 256),\n",
    "        \"y\": int(kamada_kawai_pos[i][1] * 256),\n",
    "        \"size\": 1,\n",
    "        \"type\": \"goo\"\n",
    "    }\n",
    "    for ni, i in enumerate(G.nodes())\n",
    "]\n",
    "links = [\n",
    "    {\n",
    "        \"id\": str(ui),\n",
    "        \"source\": u[0],\n",
    "        \"target\": u[1],\n",
    "        \"color\": \"rgba(0,0,0,\" + str(round(np.min([item[\"weight\"], 1])/5, 2)) + \")\",\n",
    "    }\n",
    "    for ui, (u, item) in enumerate(G.edges.items())\n",
    "]\n",
    "\n",
    "graph_data = {\"nodes\": nodes, \"edges\": links}"
   ]
  },
  {
   "cell_type": "code",
   "execution_count": 138,
   "metadata": {
    "ExecuteTime": {
     "end_time": "2019-08-22T20:21:34.370706Z",
     "start_time": "2019-08-22T20:21:34.003644Z"
    }
   },
   "outputs": [],
   "source": [
    "with open(DATA_DIR/'post_data.json', 'w') as f:\n",
    "    json.dump(graph_data,\n",
    "              f, indent=4,)"
   ]
  },
  {
   "cell_type": "code",
   "execution_count": null,
   "metadata": {},
   "outputs": [],
   "source": []
  }
 ],
 "metadata": {
  "kernelspec": {
   "display_name": "Python 3",
   "language": "python",
   "name": "python3"
  },
  "language_info": {
   "codemirror_mode": {
    "name": "ipython",
    "version": 3
   },
   "file_extension": ".py",
   "mimetype": "text/x-python",
   "name": "python",
   "nbconvert_exporter": "python",
   "pygments_lexer": "ipython3",
   "version": "3.6.8"
  }
 },
 "nbformat": 4,
 "nbformat_minor": 2
}
