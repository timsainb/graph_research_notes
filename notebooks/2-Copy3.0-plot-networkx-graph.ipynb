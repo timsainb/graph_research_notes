{
 "cells": [
  {
   "cell_type": "code",
   "execution_count": 1,
   "metadata": {
    "ExecuteTime": {
     "end_time": "2019-08-22T06:24:32.950772Z",
     "start_time": "2019-08-22T06:24:32.930558Z"
    }
   },
   "outputs": [],
   "source": [
    "%load_ext autoreload\n",
    "%autoreload 2"
   ]
  },
  {
   "cell_type": "code",
   "execution_count": 2,
   "metadata": {
    "ExecuteTime": {
     "end_time": "2019-08-22T06:24:34.424310Z",
     "start_time": "2019-08-22T06:24:32.952513Z"
    }
   },
   "outputs": [
    {
     "name": "stderr",
     "output_type": "stream",
     "text": [
      "/mnt/cube/tsainbur/conda_envs/tpy3/lib/python3.6/site-packages/tqdm/autonotebook/__init__.py:14: TqdmExperimentalWarning: Using `tqdm.autonotebook.tqdm` in notebook mode. Use `tqdm.tqdm` instead to force console mode (e.g. in jupyter console)\n",
      "  \" (e.g. in jupyter console)\", TqdmExperimentalWarning)\n"
     ]
    }
   ],
   "source": [
    "from wordpress_graph.paths import DATA_DIR, PROJECT_DIR\n",
    "import feedparser\n",
    "import numpy as np\n",
    "from tqdm.autonotebook import tqdm\n",
    "import pandas as pd\n",
    "import matplotlib.pyplot as plt\n",
    "import networkx as nx"
   ]
  },
  {
   "cell_type": "code",
   "execution_count": 3,
   "metadata": {
    "ExecuteTime": {
     "end_time": "2019-08-22T06:24:34.455359Z",
     "start_time": "2019-08-22T06:24:34.426937Z"
    }
   },
   "outputs": [],
   "source": [
    "#G = nx.read_gpickle((DATA_DIR/\"network_path.gpickle\").as_posix())\n",
    "G = nx.karate_club_graph()"
   ]
  },
  {
   "cell_type": "markdown",
   "metadata": {},
   "source": [
    "### Cluster communiities"
   ]
  },
  {
   "cell_type": "code",
   "execution_count": 4,
   "metadata": {
    "ExecuteTime": {
     "end_time": "2019-08-22T06:24:35.131578Z",
     "start_time": "2019-08-22T06:24:34.457136Z"
    }
   },
   "outputs": [],
   "source": [
    "import community\n",
    "import seaborn as sns"
   ]
  },
  {
   "cell_type": "code",
   "execution_count": 5,
   "metadata": {
    "ExecuteTime": {
     "end_time": "2019-08-22T06:24:35.185407Z",
     "start_time": "2019-08-22T06:24:35.134073Z"
    }
   },
   "outputs": [
    {
     "data": {
      "text/plain": [
       "{0, 1, 2, 3}"
      ]
     },
     "execution_count": 5,
     "metadata": {},
     "output_type": "execute_result"
    }
   ],
   "source": [
    "partition = community.best_partition(G)\n",
    "set(partition.values())"
   ]
  },
  {
   "cell_type": "markdown",
   "metadata": {},
   "source": [
    "### Create dictionary of graph"
   ]
  },
  {
   "cell_type": "code",
   "execution_count": 6,
   "metadata": {
    "ExecuteTime": {
     "end_time": "2019-08-22T06:24:35.277287Z",
     "start_time": "2019-08-22T06:24:35.187395Z"
    }
   },
   "outputs": [],
   "source": [
    "graph_data = { 'nodes': [], 'links': [] }\n",
    "for nodei, node in enumerate(G.nodes()):\n",
    "    graph_data['nodes'].append({\n",
    "            \"name\": node,\n",
    "            \"group\":  partition[node]\n",
    "\n",
    "        })\n",
    "node_num = {node['name']:nodei for nodei, node in enumerate(graph_data['nodes'])}\n",
    "for edge, edge_val in G.edges().items():\n",
    "    graph_data['links'].append({\n",
    "        \"source\" : node_num[edge[0]],\n",
    "        \"target\" : node_num[edge[1]],\n",
    "        #\"value\" : edge_val['weight']\n",
    "    })"
   ]
  },
  {
   "cell_type": "code",
   "execution_count": 10,
   "metadata": {
    "ExecuteTime": {
     "end_time": "2019-08-22T06:26:48.101449Z",
     "start_time": "2019-08-22T06:26:47.646642Z"
    }
   },
   "outputs": [
    {
     "data": {
      "text/plain": [
       "{'nodes': [{'name': 0, 'group': 0},\n",
       "  {'name': 1, 'group': 0},\n",
       "  {'name': 2, 'group': 0},\n",
       "  {'name': 3, 'group': 0},\n",
       "  {'name': 4, 'group': 1},\n",
       "  {'name': 5, 'group': 1},\n",
       "  {'name': 6, 'group': 1},\n",
       "  {'name': 7, 'group': 0},\n",
       "  {'name': 8, 'group': 2},\n",
       "  {'name': 9, 'group': 2},\n",
       "  {'name': 10, 'group': 1},\n",
       "  {'name': 11, 'group': 0},\n",
       "  {'name': 12, 'group': 0},\n",
       "  {'name': 13, 'group': 0},\n",
       "  {'name': 14, 'group': 2},\n",
       "  {'name': 15, 'group': 2},\n",
       "  {'name': 16, 'group': 1},\n",
       "  {'name': 17, 'group': 0},\n",
       "  {'name': 18, 'group': 2},\n",
       "  {'name': 19, 'group': 0},\n",
       "  {'name': 20, 'group': 2},\n",
       "  {'name': 21, 'group': 0},\n",
       "  {'name': 22, 'group': 2},\n",
       "  {'name': 23, 'group': 3},\n",
       "  {'name': 24, 'group': 3},\n",
       "  {'name': 25, 'group': 3},\n",
       "  {'name': 26, 'group': 2},\n",
       "  {'name': 27, 'group': 3},\n",
       "  {'name': 28, 'group': 3},\n",
       "  {'name': 29, 'group': 2},\n",
       "  {'name': 30, 'group': 2},\n",
       "  {'name': 31, 'group': 3},\n",
       "  {'name': 32, 'group': 2},\n",
       "  {'name': 33, 'group': 2}],\n",
       " 'links': [{'source': 0, 'target': 1},\n",
       "  {'source': 0, 'target': 2},\n",
       "  {'source': 0, 'target': 3},\n",
       "  {'source': 0, 'target': 4},\n",
       "  {'source': 0, 'target': 5},\n",
       "  {'source': 0, 'target': 6},\n",
       "  {'source': 0, 'target': 7},\n",
       "  {'source': 0, 'target': 8},\n",
       "  {'source': 0, 'target': 10},\n",
       "  {'source': 0, 'target': 11},\n",
       "  {'source': 0, 'target': 12},\n",
       "  {'source': 0, 'target': 13},\n",
       "  {'source': 0, 'target': 17},\n",
       "  {'source': 0, 'target': 19},\n",
       "  {'source': 0, 'target': 21},\n",
       "  {'source': 0, 'target': 31},\n",
       "  {'source': 1, 'target': 2},\n",
       "  {'source': 1, 'target': 3},\n",
       "  {'source': 1, 'target': 7},\n",
       "  {'source': 1, 'target': 13},\n",
       "  {'source': 1, 'target': 17},\n",
       "  {'source': 1, 'target': 19},\n",
       "  {'source': 1, 'target': 21},\n",
       "  {'source': 1, 'target': 30},\n",
       "  {'source': 2, 'target': 3},\n",
       "  {'source': 2, 'target': 7},\n",
       "  {'source': 2, 'target': 8},\n",
       "  {'source': 2, 'target': 9},\n",
       "  {'source': 2, 'target': 13},\n",
       "  {'source': 2, 'target': 27},\n",
       "  {'source': 2, 'target': 28},\n",
       "  {'source': 2, 'target': 32},\n",
       "  {'source': 3, 'target': 7},\n",
       "  {'source': 3, 'target': 12},\n",
       "  {'source': 3, 'target': 13},\n",
       "  {'source': 4, 'target': 6},\n",
       "  {'source': 4, 'target': 10},\n",
       "  {'source': 5, 'target': 6},\n",
       "  {'source': 5, 'target': 10},\n",
       "  {'source': 5, 'target': 16},\n",
       "  {'source': 6, 'target': 16},\n",
       "  {'source': 8, 'target': 30},\n",
       "  {'source': 8, 'target': 32},\n",
       "  {'source': 8, 'target': 33},\n",
       "  {'source': 9, 'target': 33},\n",
       "  {'source': 13, 'target': 33},\n",
       "  {'source': 14, 'target': 32},\n",
       "  {'source': 14, 'target': 33},\n",
       "  {'source': 15, 'target': 32},\n",
       "  {'source': 15, 'target': 33},\n",
       "  {'source': 18, 'target': 32},\n",
       "  {'source': 18, 'target': 33},\n",
       "  {'source': 19, 'target': 33},\n",
       "  {'source': 20, 'target': 32},\n",
       "  {'source': 20, 'target': 33},\n",
       "  {'source': 22, 'target': 32},\n",
       "  {'source': 22, 'target': 33},\n",
       "  {'source': 23, 'target': 25},\n",
       "  {'source': 23, 'target': 27},\n",
       "  {'source': 23, 'target': 29},\n",
       "  {'source': 23, 'target': 32},\n",
       "  {'source': 23, 'target': 33},\n",
       "  {'source': 24, 'target': 25},\n",
       "  {'source': 24, 'target': 27},\n",
       "  {'source': 24, 'target': 31},\n",
       "  {'source': 25, 'target': 31},\n",
       "  {'source': 26, 'target': 29},\n",
       "  {'source': 26, 'target': 33},\n",
       "  {'source': 27, 'target': 33},\n",
       "  {'source': 28, 'target': 31},\n",
       "  {'source': 28, 'target': 33},\n",
       "  {'source': 29, 'target': 32},\n",
       "  {'source': 29, 'target': 33},\n",
       "  {'source': 30, 'target': 32},\n",
       "  {'source': 30, 'target': 33},\n",
       "  {'source': 31, 'target': 32},\n",
       "  {'source': 31, 'target': 33},\n",
       "  {'source': 32, 'target': 33}]}"
      ]
     },
     "execution_count": 10,
     "metadata": {},
     "output_type": "execute_result"
    }
   ],
   "source": [
    "graph_data"
   ]
  },
  {
   "cell_type": "code",
   "execution_count": 7,
   "metadata": {
    "ExecuteTime": {
     "end_time": "2019-08-22T06:24:35.372162Z",
     "start_time": "2019-08-22T06:24:35.280708Z"
    }
   },
   "outputs": [],
   "source": [
    "with open('graph.json', 'w') as f:\n",
    "    json.dump(graph_data,\n",
    "              f, indent=4,)"
   ]
  },
  {
   "cell_type": "code",
   "execution_count": 8,
   "metadata": {
    "ExecuteTime": {
     "end_time": "2019-08-22T06:24:35.463793Z",
     "start_time": "2019-08-22T06:24:35.375567Z"
    }
   },
   "outputs": [
    {
     "data": {
      "text/html": [
       "<div id=\"d3-example\"></div>\n",
       "<style>\n",
       ".node {stroke: #fff; stroke-width: 1.5px;}\n",
       ".link {stroke: #999; stroke-opacity: .6;}\n",
       "</style>\n"
      ],
      "text/plain": [
       "<IPython.core.display.HTML object>"
      ]
     },
     "metadata": {},
     "output_type": "display_data"
    }
   ],
   "source": [
    "%%html\n",
    "<div id=\"d3-example\"></div>\n",
    "<style>\n",
    ".node {stroke: #fff; stroke-width: 1.5px;}\n",
    ".link {stroke: #999; stroke-opacity: .6;}\n",
    "</style>"
   ]
  },
  {
   "cell_type": "code",
   "execution_count": 9,
   "metadata": {
    "ExecuteTime": {
     "end_time": "2019-08-22T06:24:35.553498Z",
     "start_time": "2019-08-22T06:24:35.467073Z"
    }
   },
   "outputs": [
    {
     "data": {
      "application/javascript": [
       "// We load the d3.js library from the Web.\n",
       "require.config({paths:\n",
       "    {d3: \"http://d3js.org/d3.v3.min\"}});\n",
       "require([\"d3\"], function(d3) {\n",
       "  // The code in this block is executed when the\n",
       "  // d3.js library has been loaded.\n",
       "\n",
       "  // First, we specify the size of the canvas\n",
       "  // containing the visualization (size of the\n",
       "  // <div> element).\n",
       "  var width = 300, height = 300;\n",
       "\n",
       "  // We create a color scale.\n",
       "  var color = d3.scale.category10();\n",
       "\n",
       "  // We create a force-directed dynamic graph layout.\n",
       "  var force = d3.layout.force()\n",
       "    .charge(-120)\n",
       "    .linkDistance(30)\n",
       "    .size([width, height]);\n",
       "\n",
       "  // In the <div> element, we create a <svg> graphic\n",
       "  // that will contain our interactive visualization.\n",
       "  var svg = d3.select(\"#d3-example\").select(\"svg\")\n",
       "  if (svg.empty()) {\n",
       "    svg = d3.select(\"#d3-example\").append(\"svg\")\n",
       "          .attr(\"width\", width)\n",
       "          .attr(\"height\", height);\n",
       "  }\n",
       "\n",
       "  // We load the JSON file.\n",
       "  d3.json(\"graph.json\", function(error, graph) {\n",
       "    // In this block, the file has been loaded\n",
       "    // and the 'graph' object contains our graph.\n",
       "\n",
       "    // We load the nodes and links in the\n",
       "    // force-directed graph.\n",
       "    force.nodes(graph.nodes)\n",
       "      .links(graph.links)\n",
       "      .start();\n",
       "\n",
       "    // We create a <line> SVG element for each link\n",
       "    // in the graph.\n",
       "    var link = svg.selectAll(\".link\")\n",
       "      .data(graph.links)\n",
       "      .enter().append(\"line\")\n",
       "      .attr(\"class\", \"link\");\n",
       "\n",
       "    // We create a <circle> SVG element for each node\n",
       "    // in the graph, and we specify a few attributes.\n",
       "    var node = svg.selectAll(\".node\")\n",
       "      .data(graph.nodes)\n",
       "      .enter().append(\"circle\")\n",
       "      .attr(\"class\", \"node\")\n",
       "      .attr(\"r\", 5)  // radius\n",
       "      .style(\"fill\", function(d) {\n",
       "         // The node color depends on the club.\n",
       "         return color(d.group);\n",
       "      })\n",
       "      .call(force.drag);\n",
       "\n",
       "    // The name of each node is the node number.\n",
       "    node.append(\"title\")\n",
       "        .text(function(d) { return d.name; });\n",
       "\n",
       "    // We bind the positions of the SVG elements\n",
       "    // to the positions of the dynamic force-directed\n",
       "    // graph, at each time step.\n",
       "    force.on(\"tick\", function() {\n",
       "      link.attr(\"x1\", function(d){return d.source.x})\n",
       "          .attr(\"y1\", function(d){return d.source.y})\n",
       "          .attr(\"x2\", function(d){return d.target.x})\n",
       "          .attr(\"y2\", function(d){return d.target.y});\n",
       "\n",
       "      node.attr(\"cx\", function(d){return d.x})\n",
       "          .attr(\"cy\", function(d){return d.y});\n",
       "    });\n",
       "  });\n",
       "});\n"
      ],
      "text/plain": [
       "<IPython.core.display.Javascript object>"
      ]
     },
     "metadata": {},
     "output_type": "display_data"
    }
   ],
   "source": [
    "%%javascript\n",
    "// We load the d3.js library from the Web.\n",
    "require.config({paths:\n",
    "    {d3: \"http://d3js.org/d3.v3.min\"}});\n",
    "require([\"d3\"], function(d3) {\n",
    "  // The code in this block is executed when the\n",
    "  // d3.js library has been loaded.\n",
    "\n",
    "  // First, we specify the size of the canvas\n",
    "  // containing the visualization (size of the\n",
    "  // <div> element).\n",
    "  var width = 300, height = 300;\n",
    "\n",
    "  // We create a color scale.\n",
    "  var color = d3.scale.category10();\n",
    "\n",
    "  // We create a force-directed dynamic graph layout.\n",
    "  var force = d3.layout.force()\n",
    "    .charge(-120)\n",
    "    .linkDistance(30)\n",
    "    .size([width, height]);\n",
    "\n",
    "  // In the <div> element, we create a <svg> graphic\n",
    "  // that will contain our interactive visualization.\n",
    "  var svg = d3.select(\"#d3-example\").select(\"svg\")\n",
    "  if (svg.empty()) {\n",
    "    svg = d3.select(\"#d3-example\").append(\"svg\")\n",
    "          .attr(\"width\", width)\n",
    "          .attr(\"height\", height);\n",
    "  }\n",
    "\n",
    "  // We load the JSON file.\n",
    "  d3.json(\"graph.json\", function(error, graph) {\n",
    "    // In this block, the file has been loaded\n",
    "    // and the 'graph' object contains our graph.\n",
    "\n",
    "    // We load the nodes and links in the\n",
    "    // force-directed graph.\n",
    "    force.nodes(graph.nodes)\n",
    "      .links(graph.links)\n",
    "      .start();\n",
    "\n",
    "    // We create a <line> SVG element for each link\n",
    "    // in the graph.\n",
    "    var link = svg.selectAll(\".link\")\n",
    "      .data(graph.links)\n",
    "      .enter().append(\"line\")\n",
    "      .attr(\"class\", \"link\");\n",
    "\n",
    "    // We create a <circle> SVG element for each node\n",
    "    // in the graph, and we specify a few attributes.\n",
    "    var node = svg.selectAll(\".node\")\n",
    "      .data(graph.nodes)\n",
    "      .enter().append(\"circle\")\n",
    "      .attr(\"class\", \"node\")\n",
    "      .attr(\"r\", 5)  // radius\n",
    "      .style(\"fill\", function(d) {\n",
    "         // The node color depends on the club.\n",
    "         return color(d.group);\n",
    "      })\n",
    "      .call(force.drag);\n",
    "\n",
    "    // The name of each node is the node number.\n",
    "    node.append(\"title\")\n",
    "        .text(function(d) { return d.name; });\n",
    "\n",
    "    // We bind the positions of the SVG elements\n",
    "    // to the positions of the dynamic force-directed\n",
    "    // graph, at each time step.\n",
    "    force.on(\"tick\", function() {\n",
    "      link.attr(\"x1\", function(d){return d.source.x})\n",
    "          .attr(\"y1\", function(d){return d.source.y})\n",
    "          .attr(\"x2\", function(d){return d.target.x})\n",
    "          .attr(\"y2\", function(d){return d.target.y});\n",
    "\n",
    "      node.attr(\"cx\", function(d){return d.x})\n",
    "          .attr(\"cy\", function(d){return d.y});\n",
    "    });\n",
    "  });\n",
    "});"
   ]
  },
  {
   "cell_type": "code",
   "execution_count": null,
   "metadata": {},
   "outputs": [],
   "source": []
  }
 ],
 "metadata": {
  "kernelspec": {
   "display_name": "Python 3",
   "language": "python",
   "name": "python3"
  },
  "language_info": {
   "codemirror_mode": {
    "name": "ipython",
    "version": 3
   },
   "file_extension": ".py",
   "mimetype": "text/x-python",
   "name": "python",
   "nbconvert_exporter": "python",
   "pygments_lexer": "ipython3",
   "version": "3.6.8"
  }
 },
 "nbformat": 4,
 "nbformat_minor": 2
}
