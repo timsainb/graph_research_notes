{
 "cells": [
  {
   "cell_type": "markdown",
   "metadata": {},
   "source": [
    "### Run a simple HTTP server"
   ]
  },
  {
   "cell_type": "code",
   "execution_count": null,
   "metadata": {
    "ExecuteTime": {
     "start_time": "2019-08-22T19:13:00.211Z"
    }
   },
   "outputs": [],
   "source": [
    "import http.server\n",
    "import socketserver\n",
    "import os "
   ]
  },
  {
   "cell_type": "code",
   "execution_count": null,
   "metadata": {
    "ExecuteTime": {
     "start_time": "2019-08-22T19:13:00.213Z"
    }
   },
   "outputs": [],
   "source": [
    "PORT = 8189"
   ]
  },
  {
   "cell_type": "code",
   "execution_count": null,
   "metadata": {
    "ExecuteTime": {
     "start_time": "2019-08-22T19:13:00.214Z"
    }
   },
   "outputs": [],
   "source": [
    "web_dir = os.path.join(os.getcwd())\n",
    "os.chdir(web_dir)"
   ]
  },
  {
   "cell_type": "code",
   "execution_count": null,
   "metadata": {
    "ExecuteTime": {
     "start_time": "2019-08-22T19:13:00.218Z"
    }
   },
   "outputs": [
    {
     "name": "stdout",
     "output_type": "stream",
     "text": [
      "serving at port 8189\n"
     ]
    },
    {
     "name": "stderr",
     "output_type": "stream",
     "text": [
      "127.0.0.1 - - [22/Aug/2019 12:13:30] \"GET /test_graph.html HTTP/1.1\" 200 -\n",
      "127.0.0.1 - - [22/Aug/2019 12:13:30] \"GET /src/sigma.core.js HTTP/1.1\" 200 -\n",
      "127.0.0.1 - - [22/Aug/2019 12:13:30] \"GET /src/conrad.js HTTP/1.1\" 200 -\n",
      "127.0.0.1 - - [22/Aug/2019 12:13:30] \"GET /src/classes/sigma.classes.edgequad.js HTTP/1.1\" 200 -\n",
      "127.0.0.1 - - [22/Aug/2019 12:13:30] \"GET /src/utils/sigma.utils.js HTTP/1.1\" 200 -\n",
      "127.0.0.1 - - [22/Aug/2019 12:13:30] \"GET /src/classes/sigma.classes.configurable.js HTTP/1.1\" 200 -\n",
      "127.0.0.1 - - [22/Aug/2019 12:13:30] \"GET /src/sigma.settings.js HTTP/1.1\" 200 -\n",
      "127.0.0.1 - - [22/Aug/2019 12:13:30] \"GET /src/classes/sigma.classes.graph.js HTTP/1.1\" 200 -\n",
      "127.0.0.1 - - [22/Aug/2019 12:13:30] \"GET /src/classes/sigma.classes.camera.js HTTP/1.1\" 200 -\n",
      "127.0.0.1 - - [22/Aug/2019 12:13:30] \"GET /src/utils/sigma.polyfills.js HTTP/1.1\" 200 -\n",
      "127.0.0.1 - - [22/Aug/2019 12:13:30] \"GET /src/classes/sigma.classes.quad.js HTTP/1.1\" 200 -\n",
      "127.0.0.1 - - [22/Aug/2019 12:13:30] \"GET /src/captors/sigma.captors.mouse.js HTTP/1.1\" 200 -\n",
      "127.0.0.1 - - [22/Aug/2019 12:13:30] \"GET /src/classes/sigma.classes.dispatcher.js HTTP/1.1\" 200 -\n",
      "127.0.0.1 - - [22/Aug/2019 12:13:30] \"GET /src/captors/sigma.captors.touch.js HTTP/1.1\" 200 -\n",
      "127.0.0.1 - - [22/Aug/2019 12:13:30] \"GET /src/renderers/sigma.renderers.canvas.js HTTP/1.1\" 200 -\n",
      "127.0.0.1 - - [22/Aug/2019 12:13:30] \"GET /src/renderers/sigma.renderers.webgl.js HTTP/1.1\" 200 -\n",
      "127.0.0.1 - - [22/Aug/2019 12:13:30] \"GET /src/renderers/sigma.renderers.svg.js HTTP/1.1\" 200 -\n",
      "127.0.0.1 - - [22/Aug/2019 12:13:30] \"GET /src/renderers/sigma.renderers.def.js HTTP/1.1\" 200 -\n",
      "127.0.0.1 - - [22/Aug/2019 12:13:30] \"GET /src/renderers/webgl/sigma.webgl.nodes.def.js HTTP/1.1\" 200 -\n",
      "127.0.0.1 - - [22/Aug/2019 12:13:30] \"GET /src/renderers/webgl/sigma.webgl.nodes.fast.js HTTP/1.1\" 200 -\n",
      "127.0.0.1 - - [22/Aug/2019 12:13:30] \"GET /src/renderers/webgl/sigma.webgl.edges.def.js HTTP/1.1\" 200 -\n",
      "127.0.0.1 - - [22/Aug/2019 12:13:30] \"GET /src/renderers/webgl/sigma.webgl.edges.fast.js HTTP/1.1\" 200 -\n",
      "127.0.0.1 - - [22/Aug/2019 12:13:30] \"GET /src/renderers/webgl/sigma.webgl.edges.arrow.js HTTP/1.1\" 200 -\n",
      "127.0.0.1 - - [22/Aug/2019 12:13:30] \"GET /src/renderers/canvas/sigma.canvas.labels.def.js HTTP/1.1\" 200 -\n",
      "127.0.0.1 - - [22/Aug/2019 12:13:30] \"GET /src/renderers/canvas/sigma.canvas.hovers.def.js HTTP/1.1\" 200 -\n",
      "127.0.0.1 - - [22/Aug/2019 12:13:30] \"GET /src/renderers/canvas/sigma.canvas.nodes.def.js HTTP/1.1\" 200 -\n",
      "127.0.0.1 - - [22/Aug/2019 12:13:30] \"GET /src/renderers/canvas/sigma.canvas.edges.def.js HTTP/1.1\" 200 -\n",
      "127.0.0.1 - - [22/Aug/2019 12:13:30] \"GET /src/renderers/canvas/sigma.canvas.edges.curve.js HTTP/1.1\" 200 -\n",
      "127.0.0.1 - - [22/Aug/2019 12:13:30] \"GET /src/renderers/canvas/sigma.canvas.edges.arrow.js HTTP/1.1\" 200 -\n",
      "127.0.0.1 - - [22/Aug/2019 12:13:30] \"GET /src/renderers/canvas/sigma.canvas.edges.curvedArrow.js HTTP/1.1\" 200 -\n",
      "127.0.0.1 - - [22/Aug/2019 12:13:30] \"GET /src/renderers/canvas/sigma.canvas.edgehovers.def.js HTTP/1.1\" 200 -\n",
      "127.0.0.1 - - [22/Aug/2019 12:13:30] \"GET /src/renderers/canvas/sigma.canvas.edgehovers.curve.js HTTP/1.1\" 200 -\n",
      "127.0.0.1 - - [22/Aug/2019 12:13:30] \"GET /src/renderers/canvas/sigma.canvas.edgehovers.arrow.js HTTP/1.1\" 200 -\n",
      "127.0.0.1 - - [22/Aug/2019 12:13:30] \"GET /src/renderers/canvas/sigma.canvas.edgehovers.curvedArrow.js HTTP/1.1\" 200 -\n",
      "127.0.0.1 - - [22/Aug/2019 12:13:30] \"GET /src/renderers/canvas/sigma.canvas.extremities.def.js HTTP/1.1\" 200 -\n",
      "127.0.0.1 - - [22/Aug/2019 12:13:30] \"GET /src/renderers/svg/sigma.svg.utils.js HTTP/1.1\" 200 -\n",
      "127.0.0.1 - - [22/Aug/2019 12:13:30] \"GET /src/renderers/svg/sigma.svg.nodes.def.js HTTP/1.1\" 200 -\n",
      "127.0.0.1 - - [22/Aug/2019 12:13:30] \"GET /src/renderers/svg/sigma.svg.edges.def.js HTTP/1.1\" 200 -\n",
      "127.0.0.1 - - [22/Aug/2019 12:13:30] \"GET /src/renderers/svg/sigma.svg.edges.curve.js HTTP/1.1\" 200 -\n",
      "127.0.0.1 - - [22/Aug/2019 12:13:30] \"GET /src/renderers/svg/sigma.svg.labels.def.js HTTP/1.1\" 200 -\n",
      "127.0.0.1 - - [22/Aug/2019 12:13:30] \"GET /src/renderers/svg/sigma.svg.hovers.def.js HTTP/1.1\" 200 -\n",
      "127.0.0.1 - - [22/Aug/2019 12:13:30] \"GET /src/middlewares/sigma.middlewares.rescale.js HTTP/1.1\" 200 -\n",
      "127.0.0.1 - - [22/Aug/2019 12:13:30] \"GET /src/middlewares/sigma.middlewares.copy.js HTTP/1.1\" 200 -\n",
      "127.0.0.1 - - [22/Aug/2019 12:13:30] \"GET /src/misc/sigma.misc.animation.js HTTP/1.1\" 200 -\n",
      "127.0.0.1 - - [22/Aug/2019 12:13:30] \"GET /src/misc/sigma.misc.bindEvents.js HTTP/1.1\" 200 -\n",
      "127.0.0.1 - - [22/Aug/2019 12:13:30] \"GET /src/misc/sigma.misc.bindDOMEvents.js HTTP/1.1\" 200 -\n",
      "127.0.0.1 - - [22/Aug/2019 12:13:30] \"GET /src/misc/sigma.misc.drawHovers.js HTTP/1.1\" 200 -\n",
      "127.0.0.1 - - [22/Aug/2019 12:13:30] \"GET /plugins/sigma.parsers.json/sigma.parsers.json.js HTTP/1.1\" 200 -\n",
      "127.0.0.1 - - [22/Aug/2019 12:13:30] \"GET /plugins/sigma.layout.forceAtlas2/supervisor.js HTTP/1.1\" 200 -\n",
      "127.0.0.1 - - [22/Aug/2019 12:13:30] \"GET /plugins/sigma.layout.forceAtlas2/worker.js HTTP/1.1\" 200 -\n",
      "127.0.0.1 - - [22/Aug/2019 12:13:30] \"GET /post_data.json HTTP/1.1\" 200 -\n",
      "127.0.0.1 - - [22/Aug/2019 12:13:30] code 404, message File not found\n",
      "127.0.0.1 - - [22/Aug/2019 12:13:30] \"GET /favicon.ico HTTP/1.1\" 404 -\n",
      "127.0.0.1 - - [22/Aug/2019 12:15:31] \"GET /test_graph.html HTTP/1.1\" 200 -\n",
      "127.0.0.1 - - [22/Aug/2019 12:15:32] \"GET /src/sigma.core.js HTTP/1.1\" 200 -\n",
      "127.0.0.1 - - [22/Aug/2019 12:15:32] \"GET /src/conrad.js HTTP/1.1\" 200 -\n",
      "127.0.0.1 - - [22/Aug/2019 12:15:32] \"GET /src/utils/sigma.utils.js HTTP/1.1\" 200 -\n",
      "127.0.0.1 - - [22/Aug/2019 12:15:32] \"GET /src/utils/sigma.polyfills.js HTTP/1.1\" 200 -\n",
      "127.0.0.1 - - [22/Aug/2019 12:15:32] \"GET /src/sigma.settings.js HTTP/1.1\" 200 -\n",
      "127.0.0.1 - - [22/Aug/2019 12:15:32] \"GET /src/classes/sigma.classes.dispatcher.js HTTP/1.1\" 200 -\n",
      "127.0.0.1 - - [22/Aug/2019 12:15:32] \"GET /src/classes/sigma.classes.configurable.js HTTP/1.1\" 200 -\n",
      "127.0.0.1 - - [22/Aug/2019 12:15:32] \"GET /src/classes/sigma.classes.graph.js HTTP/1.1\" 200 -\n",
      "127.0.0.1 - - [22/Aug/2019 12:15:32] \"GET /src/classes/sigma.classes.camera.js HTTP/1.1\" 200 -\n",
      "127.0.0.1 - - [22/Aug/2019 12:15:32] \"GET /src/classes/sigma.classes.quad.js HTTP/1.1\" 200 -\n",
      "127.0.0.1 - - [22/Aug/2019 12:15:32] \"GET /src/classes/sigma.classes.edgequad.js HTTP/1.1\" 200 -\n",
      "127.0.0.1 - - [22/Aug/2019 12:15:32] \"GET /src/captors/sigma.captors.mouse.js HTTP/1.1\" 200 -\n",
      "127.0.0.1 - - [22/Aug/2019 12:15:32] \"GET /src/captors/sigma.captors.touch.js HTTP/1.1\" 200 -\n",
      "127.0.0.1 - - [22/Aug/2019 12:15:32] \"GET /src/renderers/sigma.renderers.canvas.js HTTP/1.1\" 200 -\n",
      "127.0.0.1 - - [22/Aug/2019 12:15:32] \"GET /src/renderers/sigma.renderers.webgl.js HTTP/1.1\" 200 -\n",
      "127.0.0.1 - - [22/Aug/2019 12:15:32] \"GET /src/renderers/sigma.renderers.svg.js HTTP/1.1\" 200 -\n",
      "127.0.0.1 - - [22/Aug/2019 12:15:32] \"GET /src/renderers/sigma.renderers.def.js HTTP/1.1\" 200 -\n",
      "127.0.0.1 - - [22/Aug/2019 12:15:32] \"GET /src/renderers/webgl/sigma.webgl.nodes.def.js HTTP/1.1\" 200 -\n",
      "127.0.0.1 - - [22/Aug/2019 12:15:32] \"GET /src/renderers/webgl/sigma.webgl.nodes.fast.js HTTP/1.1\" 200 -\n",
      "127.0.0.1 - - [22/Aug/2019 12:15:33] \"GET /src/renderers/webgl/sigma.webgl.edges.def.js HTTP/1.1\" 200 -\n",
      "127.0.0.1 - - [22/Aug/2019 12:15:33] \"GET /src/renderers/webgl/sigma.webgl.edges.fast.js HTTP/1.1\" 200 -\n",
      "127.0.0.1 - - [22/Aug/2019 12:15:33] \"GET /src/renderers/webgl/sigma.webgl.edges.arrow.js HTTP/1.1\" 200 -\n",
      "127.0.0.1 - - [22/Aug/2019 12:15:33] \"GET /src/renderers/canvas/sigma.canvas.labels.def.js HTTP/1.1\" 200 -\n",
      "127.0.0.1 - - [22/Aug/2019 12:15:33] \"GET /src/renderers/canvas/sigma.canvas.hovers.def.js HTTP/1.1\" 200 -\n",
      "127.0.0.1 - - [22/Aug/2019 12:15:33] \"GET /src/renderers/canvas/sigma.canvas.nodes.def.js HTTP/1.1\" 200 -\n",
      "127.0.0.1 - - [22/Aug/2019 12:15:33] \"GET /src/renderers/canvas/sigma.canvas.edges.def.js HTTP/1.1\" 200 -\n",
      "127.0.0.1 - - [22/Aug/2019 12:15:33] \"GET /src/renderers/canvas/sigma.canvas.edges.curve.js HTTP/1.1\" 200 -\n",
      "127.0.0.1 - - [22/Aug/2019 12:15:33] \"GET /src/renderers/canvas/sigma.canvas.edges.arrow.js HTTP/1.1\" 200 -\n",
      "127.0.0.1 - - [22/Aug/2019 12:15:33] \"GET /src/renderers/canvas/sigma.canvas.edges.curvedArrow.js HTTP/1.1\" 200 -\n",
      "127.0.0.1 - - [22/Aug/2019 12:15:33] \"GET /src/renderers/canvas/sigma.canvas.edgehovers.def.js HTTP/1.1\" 200 -\n",
      "127.0.0.1 - - [22/Aug/2019 12:15:33] \"GET /src/renderers/canvas/sigma.canvas.edgehovers.curve.js HTTP/1.1\" 200 -\n",
      "127.0.0.1 - - [22/Aug/2019 12:15:33] \"GET /src/renderers/canvas/sigma.canvas.extremities.def.js HTTP/1.1\" 200 -\n",
      "127.0.0.1 - - [22/Aug/2019 12:15:33] \"GET /src/renderers/canvas/sigma.canvas.edgehovers.arrow.js HTTP/1.1\" 200 -\n",
      "127.0.0.1 - - [22/Aug/2019 12:15:33] \"GET /src/renderers/canvas/sigma.canvas.edgehovers.curvedArrow.js HTTP/1.1\" 200 -\n",
      "127.0.0.1 - - [22/Aug/2019 12:15:33] \"GET /src/renderers/svg/sigma.svg.utils.js HTTP/1.1\" 200 -\n",
      "127.0.0.1 - - [22/Aug/2019 12:15:33] \"GET /src/renderers/svg/sigma.svg.nodes.def.js HTTP/1.1\" 200 -\n"
     ]
    },
    {
     "name": "stderr",
     "output_type": "stream",
     "text": [
      "127.0.0.1 - - [22/Aug/2019 12:15:33] \"GET /src/renderers/svg/sigma.svg.edges.def.js HTTP/1.1\" 200 -\n",
      "127.0.0.1 - - [22/Aug/2019 12:15:33] \"GET /src/renderers/svg/sigma.svg.edges.curve.js HTTP/1.1\" 200 -\n",
      "127.0.0.1 - - [22/Aug/2019 12:15:33] \"GET /src/renderers/svg/sigma.svg.labels.def.js HTTP/1.1\" 200 -\n",
      "127.0.0.1 - - [22/Aug/2019 12:15:33] \"GET /src/middlewares/sigma.middlewares.copy.js HTTP/1.1\" 200 -\n",
      "127.0.0.1 - - [22/Aug/2019 12:15:33] \"GET /src/renderers/svg/sigma.svg.hovers.def.js HTTP/1.1\" 200 -\n",
      "127.0.0.1 - - [22/Aug/2019 12:15:33] \"GET /src/middlewares/sigma.middlewares.rescale.js HTTP/1.1\" 200 -\n",
      "127.0.0.1 - - [22/Aug/2019 12:15:33] \"GET /src/misc/sigma.misc.animation.js HTTP/1.1\" 200 -\n",
      "127.0.0.1 - - [22/Aug/2019 12:15:33] \"GET /src/misc/sigma.misc.bindEvents.js HTTP/1.1\" 200 -\n",
      "127.0.0.1 - - [22/Aug/2019 12:15:33] \"GET /src/misc/sigma.misc.bindDOMEvents.js HTTP/1.1\" 200 -\n",
      "127.0.0.1 - - [22/Aug/2019 12:15:33] \"GET /src/misc/sigma.misc.drawHovers.js HTTP/1.1\" 200 -\n",
      "127.0.0.1 - - [22/Aug/2019 12:15:33] \"GET /plugins/sigma.parsers.json/sigma.parsers.json.js HTTP/1.1\" 200 -\n",
      "127.0.0.1 - - [22/Aug/2019 12:15:33] \"GET /plugins/sigma.layout.forceAtlas2/supervisor.js HTTP/1.1\" 200 -\n",
      "127.0.0.1 - - [22/Aug/2019 12:15:33] \"GET /plugins/sigma.layout.forceAtlas2/worker.js HTTP/1.1\" 200 -\n",
      "127.0.0.1 - - [22/Aug/2019 12:15:34] \"GET /post_data.json HTTP/1.1\" 200 -\n",
      "127.0.0.1 - - [22/Aug/2019 12:15:34] code 404, message File not found\n",
      "127.0.0.1 - - [22/Aug/2019 12:15:34] \"GET /favicon.ico HTTP/1.1\" 404 -\n",
      "127.0.0.1 - - [22/Aug/2019 12:16:29] \"GET /test_graph.html HTTP/1.1\" 200 -\n",
      "127.0.0.1 - - [22/Aug/2019 12:16:29] \"GET /src/sigma.core.js HTTP/1.1\" 200 -\n",
      "127.0.0.1 - - [22/Aug/2019 12:16:29] \"GET /src/conrad.js HTTP/1.1\" 200 -\n",
      "127.0.0.1 - - [22/Aug/2019 12:16:29] \"GET /src/utils/sigma.utils.js HTTP/1.1\" 200 -\n",
      "127.0.0.1 - - [22/Aug/2019 12:16:29] \"GET /src/utils/sigma.polyfills.js HTTP/1.1\" 200 -\n",
      "127.0.0.1 - - [22/Aug/2019 12:16:29] \"GET /src/sigma.settings.js HTTP/1.1\" 200 -\n",
      "127.0.0.1 - - [22/Aug/2019 12:16:29] \"GET /src/classes/sigma.classes.dispatcher.js HTTP/1.1\" 200 -\n",
      "127.0.0.1 - - [22/Aug/2019 12:16:29] \"GET /src/classes/sigma.classes.configurable.js HTTP/1.1\" 200 -\n",
      "127.0.0.1 - - [22/Aug/2019 12:16:29] \"GET /src/classes/sigma.classes.graph.js HTTP/1.1\" 200 -\n",
      "127.0.0.1 - - [22/Aug/2019 12:16:29] \"GET /src/classes/sigma.classes.camera.js HTTP/1.1\" 200 -\n",
      "127.0.0.1 - - [22/Aug/2019 12:16:29] \"GET /src/classes/sigma.classes.quad.js HTTP/1.1\" 200 -\n",
      "127.0.0.1 - - [22/Aug/2019 12:16:29] \"GET /src/classes/sigma.classes.edgequad.js HTTP/1.1\" 200 -\n",
      "127.0.0.1 - - [22/Aug/2019 12:16:29] \"GET /src/captors/sigma.captors.mouse.js HTTP/1.1\" 200 -\n",
      "127.0.0.1 - - [22/Aug/2019 12:16:29] \"GET /src/captors/sigma.captors.touch.js HTTP/1.1\" 200 -\n",
      "127.0.0.1 - - [22/Aug/2019 12:16:29] \"GET /src/renderers/sigma.renderers.canvas.js HTTP/1.1\" 200 -\n",
      "127.0.0.1 - - [22/Aug/2019 12:16:29] \"GET /src/renderers/sigma.renderers.webgl.js HTTP/1.1\" 200 -\n",
      "127.0.0.1 - - [22/Aug/2019 12:16:29] \"GET /src/renderers/sigma.renderers.svg.js HTTP/1.1\" 200 -\n",
      "127.0.0.1 - - [22/Aug/2019 12:16:29] \"GET /src/renderers/sigma.renderers.def.js HTTP/1.1\" 200 -\n",
      "127.0.0.1 - - [22/Aug/2019 12:16:29] \"GET /src/renderers/webgl/sigma.webgl.nodes.def.js HTTP/1.1\" 200 -\n",
      "127.0.0.1 - - [22/Aug/2019 12:16:29] \"GET /src/renderers/webgl/sigma.webgl.nodes.fast.js HTTP/1.1\" 200 -\n",
      "127.0.0.1 - - [22/Aug/2019 12:16:29] \"GET /src/renderers/webgl/sigma.webgl.edges.def.js HTTP/1.1\" 200 -\n",
      "127.0.0.1 - - [22/Aug/2019 12:16:29] \"GET /src/renderers/webgl/sigma.webgl.edges.fast.js HTTP/1.1\" 200 -\n",
      "127.0.0.1 - - [22/Aug/2019 12:16:29] \"GET /src/renderers/webgl/sigma.webgl.edges.arrow.js HTTP/1.1\" 200 -\n",
      "127.0.0.1 - - [22/Aug/2019 12:16:29] \"GET /src/renderers/canvas/sigma.canvas.labels.def.js HTTP/1.1\" 200 -\n",
      "127.0.0.1 - - [22/Aug/2019 12:16:29] \"GET /src/renderers/canvas/sigma.canvas.hovers.def.js HTTP/1.1\" 200 -\n",
      "127.0.0.1 - - [22/Aug/2019 12:16:29] \"GET /src/renderers/canvas/sigma.canvas.nodes.def.js HTTP/1.1\" 200 -\n",
      "127.0.0.1 - - [22/Aug/2019 12:16:29] \"GET /src/renderers/canvas/sigma.canvas.edges.def.js HTTP/1.1\" 200 -\n",
      "127.0.0.1 - - [22/Aug/2019 12:16:29] \"GET /src/renderers/canvas/sigma.canvas.edges.curve.js HTTP/1.1\" 200 -\n",
      "127.0.0.1 - - [22/Aug/2019 12:16:29] \"GET /src/renderers/canvas/sigma.canvas.edges.arrow.js HTTP/1.1\" 200 -\n",
      "127.0.0.1 - - [22/Aug/2019 12:16:29] \"GET /src/renderers/canvas/sigma.canvas.edges.curvedArrow.js HTTP/1.1\" 200 -\n",
      "127.0.0.1 - - [22/Aug/2019 12:16:29] \"GET /src/renderers/canvas/sigma.canvas.edgehovers.def.js HTTP/1.1\" 200 -\n",
      "127.0.0.1 - - [22/Aug/2019 12:16:29] \"GET /src/renderers/canvas/sigma.canvas.edgehovers.curve.js HTTP/1.1\" 200 -\n",
      "127.0.0.1 - - [22/Aug/2019 12:16:29] \"GET /src/renderers/canvas/sigma.canvas.edgehovers.arrow.js HTTP/1.1\" 200 -\n",
      "127.0.0.1 - - [22/Aug/2019 12:16:29] \"GET /src/renderers/canvas/sigma.canvas.edgehovers.curvedArrow.js HTTP/1.1\" 200 -\n",
      "127.0.0.1 - - [22/Aug/2019 12:16:29] \"GET /src/renderers/canvas/sigma.canvas.extremities.def.js HTTP/1.1\" 200 -\n",
      "127.0.0.1 - - [22/Aug/2019 12:16:29] \"GET /src/renderers/svg/sigma.svg.utils.js HTTP/1.1\" 200 -\n",
      "127.0.0.1 - - [22/Aug/2019 12:16:29] \"GET /src/renderers/svg/sigma.svg.nodes.def.js HTTP/1.1\" 200 -\n",
      "127.0.0.1 - - [22/Aug/2019 12:16:29] \"GET /src/renderers/svg/sigma.svg.edges.def.js HTTP/1.1\" 200 -\n",
      "127.0.0.1 - - [22/Aug/2019 12:16:29] \"GET /src/renderers/svg/sigma.svg.edges.curve.js HTTP/1.1\" 200 -\n",
      "127.0.0.1 - - [22/Aug/2019 12:16:29] \"GET /src/renderers/svg/sigma.svg.labels.def.js HTTP/1.1\" 200 -\n",
      "127.0.0.1 - - [22/Aug/2019 12:16:29] \"GET /src/renderers/svg/sigma.svg.hovers.def.js HTTP/1.1\" 200 -\n",
      "127.0.0.1 - - [22/Aug/2019 12:16:29] \"GET /src/middlewares/sigma.middlewares.rescale.js HTTP/1.1\" 200 -\n",
      "127.0.0.1 - - [22/Aug/2019 12:16:29] \"GET /src/middlewares/sigma.middlewares.copy.js HTTP/1.1\" 200 -\n",
      "127.0.0.1 - - [22/Aug/2019 12:16:29] \"GET /src/misc/sigma.misc.animation.js HTTP/1.1\" 200 -\n",
      "127.0.0.1 - - [22/Aug/2019 12:16:29] \"GET /src/misc/sigma.misc.bindEvents.js HTTP/1.1\" 200 -\n",
      "127.0.0.1 - - [22/Aug/2019 12:16:30] \"GET /src/misc/sigma.misc.bindDOMEvents.js HTTP/1.1\" 200 -\n",
      "127.0.0.1 - - [22/Aug/2019 12:16:30] \"GET /src/misc/sigma.misc.drawHovers.js HTTP/1.1\" 200 -\n",
      "127.0.0.1 - - [22/Aug/2019 12:16:30] \"GET /plugins/sigma.parsers.json/sigma.parsers.json.js HTTP/1.1\" 200 -\n",
      "127.0.0.1 - - [22/Aug/2019 12:16:30] \"GET /plugins/sigma.layout.forceAtlas2/supervisor.js HTTP/1.1\" 200 -\n",
      "127.0.0.1 - - [22/Aug/2019 12:16:30] \"GET /plugins/sigma.layout.forceAtlas2/worker.js HTTP/1.1\" 200 -\n",
      "127.0.0.1 - - [22/Aug/2019 12:16:30] \"GET /post_data.json HTTP/1.1\" 200 -\n",
      "127.0.0.1 - - [22/Aug/2019 12:16:30] code 404, message File not found\n",
      "127.0.0.1 - - [22/Aug/2019 12:16:30] \"GET /favicon.ico HTTP/1.1\" 404 -\n",
      "127.0.0.1 - - [22/Aug/2019 12:16:52] \"GET /test_graph.html HTTP/1.1\" 200 -\n",
      "127.0.0.1 - - [22/Aug/2019 12:16:52] \"GET /post_data.json HTTP/1.1\" 200 -\n",
      "127.0.0.1 - - [22/Aug/2019 12:16:52] code 404, message File not found\n",
      "127.0.0.1 - - [22/Aug/2019 12:16:52] \"GET /favicon.ico HTTP/1.1\" 404 -\n"
     ]
    }
   ],
   "source": [
    "Handler = http.server.SimpleHTTPRequestHandler\n",
    "httpd = socketserver.TCPServer((\"\", PORT), Handler)\n",
    "print(\"serving at port\", PORT)\n",
    "httpd.serve_forever()"
   ]
  },
  {
   "cell_type": "code",
   "execution_count": null,
   "metadata": {},
   "outputs": [],
   "source": []
  }
 ],
 "metadata": {
  "kernelspec": {
   "display_name": "Python 3",
   "language": "python",
   "name": "python3"
  },
  "language_info": {
   "codemirror_mode": {
    "name": "ipython",
    "version": 3
   },
   "file_extension": ".py",
   "mimetype": "text/x-python",
   "name": "python",
   "nbconvert_exporter": "python",
   "pygments_lexer": "ipython3",
   "version": "3.6.8"
  }
 },
 "nbformat": 4,
 "nbformat_minor": 2
}
